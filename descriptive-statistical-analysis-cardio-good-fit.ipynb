{
 "cells": [
  {
   "cell_type": "code",
   "execution_count": 1,
   "id": "94084a7f",
   "metadata": {
    "_cell_guid": "48fd4cab-9a11-44d9-ab05-63783df643f5",
    "_uuid": "3975b0de-053d-4472-8ce3-fc6751a4de5f",
    "collapsed": false,
    "execution": {
     "iopub.execute_input": "2022-09-11T12:03:30.313787Z",
     "iopub.status.busy": "2022-09-11T12:03:30.313270Z",
     "iopub.status.idle": "2022-09-11T12:03:30.337654Z",
     "shell.execute_reply": "2022-09-11T12:03:30.336153Z"
    },
    "jupyter": {
     "outputs_hidden": false
    },
    "papermill": {
     "duration": 0.042045,
     "end_time": "2022-09-11T12:03:30.340768",
     "exception": false,
     "start_time": "2022-09-11T12:03:30.298723",
     "status": "completed"
    },
    "tags": []
   },
   "outputs": [
    {
     "name": "stdout",
     "output_type": "stream",
     "text": [
      "/kaggle/input/cardiogoodfitness/CardioGoodFitness.csv\n"
     ]
    }
   ],
   "source": [
    "# This Python 3 environment comes with many helpful analytics libraries installed\n",
    "# It is defined by the kaggle/python Docker image: https://github.com/kaggle/docker-python\n",
    "# For example, here's several helpful packages to load\n",
    "\n",
    "import numpy as np # linear algebra\n",
    "import pandas as pd # data processing, CSV file I/O (e.g. pd.read_csv)\n",
    "\n",
    "# Input data files are available in the read-only \"../input/\" directory\n",
    "# For example, running this (by clicking run or pressing Shift+Enter) will list all files under the input directory\n",
    "\n",
    "import os\n",
    "for dirname, _, filenames in os.walk('/kaggle/input'):\n",
    "    for filename in filenames:\n",
    "        print(os.path.join(dirname, filename))\n",
    "\n",
    "# You can write up to 20GB to the current directory (/kaggle/working/) that gets preserved as output when you create a version using \"Save & Run All\" \n",
    "# You can also write temporary files to /kaggle/temp/, but they won't be saved outside of the current session"
   ]
  },
  {
   "cell_type": "markdown",
   "id": "74e5e846",
   "metadata": {
    "_cell_guid": "8c217302-ee9a-4cf7-9a0f-88ce55fcffb4",
    "_uuid": "2ee650b9-8e80-4138-84fd-6bf5a9837bcc",
    "papermill": {
     "duration": 0.010732,
     "end_time": "2022-09-11T12:03:30.364135",
     "exception": false,
     "start_time": "2022-09-11T12:03:30.353403",
     "status": "completed"
    },
    "tags": []
   },
   "source": [
    "<H1>Cardio Good Fitness Case Study - Descriptive Statistics</H1>"
   ]
  },
  {
   "cell_type": "markdown",
   "id": "bce63ddb",
   "metadata": {
    "_cell_guid": "6fb5dba9-e7ba-411e-91a0-02ea448b1833",
    "_uuid": "fc4ee466-2b5d-4bac-a02f-de4e2eccb157",
    "papermill": {
     "duration": 0.010589,
     "end_time": "2022-09-11T12:03:30.388031",
     "exception": false,
     "start_time": "2022-09-11T12:03:30.377442",
     "status": "completed"
    },
    "tags": []
   },
   "source": [
    "\n",
    "The market research team at AdRight is assigned the task to identify the profile of the typical customer for each treadmill product offered by CardioGood Fitness. The market research team decides to investigate whether there are differences across the product lines with respect to customer characteristics. The team decides to collect data on individuals who purchased a treadmill at a CardioGoodFitness retail store during the prior three months."
   ]
  },
  {
   "cell_type": "markdown",
   "id": "0fd2c849",
   "metadata": {
    "_cell_guid": "ee66123b-4bfc-430d-afd5-42a009390836",
    "_uuid": "10538ebe-244c-4f42-a884-0736c703fe2c",
    "papermill": {
     "duration": 0.010482,
     "end_time": "2022-09-11T12:03:30.409421",
     "exception": false,
     "start_time": "2022-09-11T12:03:30.398939",
     "status": "completed"
    },
    "tags": []
   },
   "source": [
    "The team identifies the following customer variables to study:\n",
    "1. product purchased, TM195, TM498, or TM798;\n",
    "2. gender;\n",
    "3. age, in years;\n",
    "4. education, in years;\n",
    "5. relationship status, single or partnered;\n",
    "6. annual household income ;\n",
    "7. average number of times the customer plans to use the treadmill each week;\n",
    "8. average number of miles the customer expects to walk/run each week;\n",
    "9. and self-rated fitness on an 1-to-5 scale, where 1 is poor shape and 5 is excellent shape."
   ]
  },
  {
   "cell_type": "code",
   "execution_count": 2,
   "id": "531bdf84",
   "metadata": {
    "_cell_guid": "652c6b60-45a0-4c73-891c-eb90de8e1f96",
    "_uuid": "72b82d2c-2151-41fd-bad5-35733b9cd02b",
    "collapsed": false,
    "execution": {
     "iopub.execute_input": "2022-09-11T12:03:30.433200Z",
     "iopub.status.busy": "2022-09-11T12:03:30.432790Z",
     "iopub.status.idle": "2022-09-11T12:03:31.641033Z",
     "shell.execute_reply": "2022-09-11T12:03:31.639859Z"
    },
    "jupyter": {
     "outputs_hidden": false
    },
    "papermill": {
     "duration": 1.223496,
     "end_time": "2022-09-11T12:03:31.643805",
     "exception": false,
     "start_time": "2022-09-11T12:03:30.420309",
     "status": "completed"
    },
    "tags": []
   },
   "outputs": [],
   "source": [
    "import warnings\n",
    "warnings.filterwarnings('ignore')\n",
    "import numpy as np\n",
    "import pandas as pd\n",
    "import missingno as msn\n",
    "import matplotlib.pyplot as plt\n",
    "import seaborn as sns"
   ]
  },
  {
   "cell_type": "markdown",
   "id": "f50f35db",
   "metadata": {
    "_cell_guid": "26779bb0-774e-4b23-8a93-194b5fcd2a65",
    "_uuid": "969402cc-bc43-4f15-afe1-a4886f52699d",
    "papermill": {
     "duration": 0.010963,
     "end_time": "2022-09-11T12:03:31.666091",
     "exception": false,
     "start_time": "2022-09-11T12:03:31.655128",
     "status": "completed"
    },
    "tags": []
   },
   "source": [
    "We start by importing necessary libraries."
   ]
  },
  {
   "cell_type": "code",
   "execution_count": 3,
   "id": "6f5b9179",
   "metadata": {
    "_cell_guid": "62622e4e-5d69-4417-917d-3b22af24fbf1",
    "_uuid": "a3d81fe3-3d1f-4941-bbc9-f60da22175a4",
    "collapsed": false,
    "execution": {
     "iopub.execute_input": "2022-09-11T12:03:31.690945Z",
     "iopub.status.busy": "2022-09-11T12:03:31.690165Z",
     "iopub.status.idle": "2022-09-11T12:03:31.727325Z",
     "shell.execute_reply": "2022-09-11T12:03:31.726077Z"
    },
    "jupyter": {
     "outputs_hidden": false
    },
    "papermill": {
     "duration": 0.052322,
     "end_time": "2022-09-11T12:03:31.729659",
     "exception": false,
     "start_time": "2022-09-11T12:03:31.677337",
     "status": "completed"
    },
    "tags": []
   },
   "outputs": [
    {
     "data": {
      "text/html": [
       "<div>\n",
       "<style scoped>\n",
       "    .dataframe tbody tr th:only-of-type {\n",
       "        vertical-align: middle;\n",
       "    }\n",
       "\n",
       "    .dataframe tbody tr th {\n",
       "        vertical-align: top;\n",
       "    }\n",
       "\n",
       "    .dataframe thead th {\n",
       "        text-align: right;\n",
       "    }\n",
       "</style>\n",
       "<table border=\"1\" class=\"dataframe\">\n",
       "  <thead>\n",
       "    <tr style=\"text-align: right;\">\n",
       "      <th></th>\n",
       "      <th>Product</th>\n",
       "      <th>Age</th>\n",
       "      <th>Gender</th>\n",
       "      <th>Education</th>\n",
       "      <th>MaritalStatus</th>\n",
       "      <th>Usage</th>\n",
       "      <th>Fitness</th>\n",
       "      <th>Income</th>\n",
       "      <th>Miles</th>\n",
       "    </tr>\n",
       "  </thead>\n",
       "  <tbody>\n",
       "    <tr>\n",
       "      <th>0</th>\n",
       "      <td>TM195</td>\n",
       "      <td>18</td>\n",
       "      <td>Male</td>\n",
       "      <td>14</td>\n",
       "      <td>Single</td>\n",
       "      <td>3</td>\n",
       "      <td>4</td>\n",
       "      <td>29562</td>\n",
       "      <td>112</td>\n",
       "    </tr>\n",
       "    <tr>\n",
       "      <th>1</th>\n",
       "      <td>TM195</td>\n",
       "      <td>19</td>\n",
       "      <td>Male</td>\n",
       "      <td>15</td>\n",
       "      <td>Single</td>\n",
       "      <td>2</td>\n",
       "      <td>3</td>\n",
       "      <td>31836</td>\n",
       "      <td>75</td>\n",
       "    </tr>\n",
       "    <tr>\n",
       "      <th>2</th>\n",
       "      <td>TM195</td>\n",
       "      <td>19</td>\n",
       "      <td>Female</td>\n",
       "      <td>14</td>\n",
       "      <td>Partnered</td>\n",
       "      <td>4</td>\n",
       "      <td>3</td>\n",
       "      <td>30699</td>\n",
       "      <td>66</td>\n",
       "    </tr>\n",
       "    <tr>\n",
       "      <th>3</th>\n",
       "      <td>TM195</td>\n",
       "      <td>19</td>\n",
       "      <td>Male</td>\n",
       "      <td>12</td>\n",
       "      <td>Single</td>\n",
       "      <td>3</td>\n",
       "      <td>3</td>\n",
       "      <td>32973</td>\n",
       "      <td>85</td>\n",
       "    </tr>\n",
       "    <tr>\n",
       "      <th>4</th>\n",
       "      <td>TM195</td>\n",
       "      <td>20</td>\n",
       "      <td>Male</td>\n",
       "      <td>13</td>\n",
       "      <td>Partnered</td>\n",
       "      <td>4</td>\n",
       "      <td>2</td>\n",
       "      <td>35247</td>\n",
       "      <td>47</td>\n",
       "    </tr>\n",
       "  </tbody>\n",
       "</table>\n",
       "</div>"
      ],
      "text/plain": [
       "  Product  Age  Gender  Education MaritalStatus  Usage  Fitness  Income  Miles\n",
       "0   TM195   18    Male         14        Single      3        4   29562    112\n",
       "1   TM195   19    Male         15        Single      2        3   31836     75\n",
       "2   TM195   19  Female         14     Partnered      4        3   30699     66\n",
       "3   TM195   19    Male         12        Single      3        3   32973     85\n",
       "4   TM195   20    Male         13     Partnered      4        2   35247     47"
      ]
     },
     "execution_count": 3,
     "metadata": {},
     "output_type": "execute_result"
    }
   ],
   "source": [
    "df=pd.read_csv('../input/cardiogoodfitness/CardioGoodFitness.csv')\n",
    "df.head(5)"
   ]
  },
  {
   "cell_type": "markdown",
   "id": "cd7f506e",
   "metadata": {
    "papermill": {
     "duration": 0.011493,
     "end_time": "2022-09-11T12:03:31.752647",
     "exception": false,
     "start_time": "2022-09-11T12:03:31.741154",
     "status": "completed"
    },
    "tags": []
   },
   "source": [
    "Reading the first 5 values of the dataset, for general understanding. This is just to understand that what kind of data is updated in the dataset"
   ]
  },
  {
   "cell_type": "code",
   "execution_count": 4,
   "id": "d9a81e7f",
   "metadata": {
    "_cell_guid": "cf151723-08d7-40a6-93d9-dece6f4513ec",
    "_uuid": "b50d4690-d2db-4700-84d0-34b10e2b031d",
    "collapsed": false,
    "execution": {
     "iopub.execute_input": "2022-09-11T12:03:31.778426Z",
     "iopub.status.busy": "2022-09-11T12:03:31.777658Z",
     "iopub.status.idle": "2022-09-11T12:03:31.792323Z",
     "shell.execute_reply": "2022-09-11T12:03:31.791099Z"
    },
    "jupyter": {
     "outputs_hidden": false
    },
    "papermill": {
     "duration": 0.030654,
     "end_time": "2022-09-11T12:03:31.794830",
     "exception": false,
     "start_time": "2022-09-11T12:03:31.764176",
     "status": "completed"
    },
    "tags": []
   },
   "outputs": [
    {
     "data": {
      "text/html": [
       "<div>\n",
       "<style scoped>\n",
       "    .dataframe tbody tr th:only-of-type {\n",
       "        vertical-align: middle;\n",
       "    }\n",
       "\n",
       "    .dataframe tbody tr th {\n",
       "        vertical-align: top;\n",
       "    }\n",
       "\n",
       "    .dataframe thead th {\n",
       "        text-align: right;\n",
       "    }\n",
       "</style>\n",
       "<table border=\"1\" class=\"dataframe\">\n",
       "  <thead>\n",
       "    <tr style=\"text-align: right;\">\n",
       "      <th></th>\n",
       "      <th>Product</th>\n",
       "      <th>Age</th>\n",
       "      <th>Gender</th>\n",
       "      <th>Education</th>\n",
       "      <th>MaritalStatus</th>\n",
       "      <th>Usage</th>\n",
       "      <th>Fitness</th>\n",
       "      <th>Income</th>\n",
       "      <th>Miles</th>\n",
       "    </tr>\n",
       "  </thead>\n",
       "  <tbody>\n",
       "    <tr>\n",
       "      <th>175</th>\n",
       "      <td>TM798</td>\n",
       "      <td>40</td>\n",
       "      <td>Male</td>\n",
       "      <td>21</td>\n",
       "      <td>Single</td>\n",
       "      <td>6</td>\n",
       "      <td>5</td>\n",
       "      <td>83416</td>\n",
       "      <td>200</td>\n",
       "    </tr>\n",
       "    <tr>\n",
       "      <th>176</th>\n",
       "      <td>TM798</td>\n",
       "      <td>42</td>\n",
       "      <td>Male</td>\n",
       "      <td>18</td>\n",
       "      <td>Single</td>\n",
       "      <td>5</td>\n",
       "      <td>4</td>\n",
       "      <td>89641</td>\n",
       "      <td>200</td>\n",
       "    </tr>\n",
       "    <tr>\n",
       "      <th>177</th>\n",
       "      <td>TM798</td>\n",
       "      <td>45</td>\n",
       "      <td>Male</td>\n",
       "      <td>16</td>\n",
       "      <td>Single</td>\n",
       "      <td>5</td>\n",
       "      <td>5</td>\n",
       "      <td>90886</td>\n",
       "      <td>160</td>\n",
       "    </tr>\n",
       "    <tr>\n",
       "      <th>178</th>\n",
       "      <td>TM798</td>\n",
       "      <td>47</td>\n",
       "      <td>Male</td>\n",
       "      <td>18</td>\n",
       "      <td>Partnered</td>\n",
       "      <td>4</td>\n",
       "      <td>5</td>\n",
       "      <td>104581</td>\n",
       "      <td>120</td>\n",
       "    </tr>\n",
       "    <tr>\n",
       "      <th>179</th>\n",
       "      <td>TM798</td>\n",
       "      <td>48</td>\n",
       "      <td>Male</td>\n",
       "      <td>18</td>\n",
       "      <td>Partnered</td>\n",
       "      <td>4</td>\n",
       "      <td>5</td>\n",
       "      <td>95508</td>\n",
       "      <td>180</td>\n",
       "    </tr>\n",
       "  </tbody>\n",
       "</table>\n",
       "</div>"
      ],
      "text/plain": [
       "    Product  Age Gender  Education MaritalStatus  Usage  Fitness  Income  \\\n",
       "175   TM798   40   Male         21        Single      6        5   83416   \n",
       "176   TM798   42   Male         18        Single      5        4   89641   \n",
       "177   TM798   45   Male         16        Single      5        5   90886   \n",
       "178   TM798   47   Male         18     Partnered      4        5  104581   \n",
       "179   TM798   48   Male         18     Partnered      4        5   95508   \n",
       "\n",
       "     Miles  \n",
       "175    200  \n",
       "176    200  \n",
       "177    160  \n",
       "178    120  \n",
       "179    180  "
      ]
     },
     "execution_count": 4,
     "metadata": {},
     "output_type": "execute_result"
    }
   ],
   "source": [
    "df.tail(5)"
   ]
  },
  {
   "cell_type": "markdown",
   "id": "64469628",
   "metadata": {
    "_cell_guid": "56d0581a-7e77-4acb-8285-2f25bc9d380e",
    "_uuid": "923db29a-e3de-4f93-aa07-fb87fd6bd4ca",
    "papermill": {
     "duration": 0.011112,
     "end_time": "2022-09-11T12:03:31.817578",
     "exception": false,
     "start_time": "2022-09-11T12:03:31.806466",
     "status": "completed"
    },
    "tags": []
   },
   "source": [
    "Reading the last 5 values of the dataset, for general understanding. This is just to understand that what kind of data is updated in the dataset"
   ]
  },
  {
   "cell_type": "code",
   "execution_count": 5,
   "id": "43457cc3",
   "metadata": {
    "_cell_guid": "e63bff7b-d422-413f-babd-5cb89af18d6d",
    "_uuid": "c614aab0-2139-48ac-8741-a2b0c6290ee2",
    "collapsed": false,
    "execution": {
     "iopub.execute_input": "2022-09-11T12:03:31.842748Z",
     "iopub.status.busy": "2022-09-11T12:03:31.841918Z",
     "iopub.status.idle": "2022-09-11T12:03:31.860277Z",
     "shell.execute_reply": "2022-09-11T12:03:31.859020Z"
    },
    "jupyter": {
     "outputs_hidden": false
    },
    "papermill": {
     "duration": 0.033608,
     "end_time": "2022-09-11T12:03:31.862603",
     "exception": false,
     "start_time": "2022-09-11T12:03:31.828995",
     "status": "completed"
    },
    "tags": []
   },
   "outputs": [
    {
     "data": {
      "text/html": [
       "<div>\n",
       "<style scoped>\n",
       "    .dataframe tbody tr th:only-of-type {\n",
       "        vertical-align: middle;\n",
       "    }\n",
       "\n",
       "    .dataframe tbody tr th {\n",
       "        vertical-align: top;\n",
       "    }\n",
       "\n",
       "    .dataframe thead th {\n",
       "        text-align: right;\n",
       "    }\n",
       "</style>\n",
       "<table border=\"1\" class=\"dataframe\">\n",
       "  <thead>\n",
       "    <tr style=\"text-align: right;\">\n",
       "      <th></th>\n",
       "      <th>Product</th>\n",
       "      <th>Age</th>\n",
       "      <th>Gender</th>\n",
       "      <th>Education</th>\n",
       "      <th>MaritalStatus</th>\n",
       "      <th>Usage</th>\n",
       "      <th>Fitness</th>\n",
       "      <th>Income</th>\n",
       "      <th>Miles</th>\n",
       "    </tr>\n",
       "  </thead>\n",
       "  <tbody>\n",
       "    <tr>\n",
       "      <th>93</th>\n",
       "      <td>TM498</td>\n",
       "      <td>23</td>\n",
       "      <td>Male</td>\n",
       "      <td>16</td>\n",
       "      <td>Partnered</td>\n",
       "      <td>3</td>\n",
       "      <td>3</td>\n",
       "      <td>45480</td>\n",
       "      <td>64</td>\n",
       "    </tr>\n",
       "    <tr>\n",
       "      <th>32</th>\n",
       "      <td>TM195</td>\n",
       "      <td>25</td>\n",
       "      <td>Female</td>\n",
       "      <td>16</td>\n",
       "      <td>Partnered</td>\n",
       "      <td>2</td>\n",
       "      <td>2</td>\n",
       "      <td>40932</td>\n",
       "      <td>47</td>\n",
       "    </tr>\n",
       "    <tr>\n",
       "      <th>172</th>\n",
       "      <td>TM798</td>\n",
       "      <td>34</td>\n",
       "      <td>Male</td>\n",
       "      <td>16</td>\n",
       "      <td>Single</td>\n",
       "      <td>5</td>\n",
       "      <td>5</td>\n",
       "      <td>92131</td>\n",
       "      <td>150</td>\n",
       "    </tr>\n",
       "    <tr>\n",
       "      <th>168</th>\n",
       "      <td>TM798</td>\n",
       "      <td>30</td>\n",
       "      <td>Male</td>\n",
       "      <td>18</td>\n",
       "      <td>Partnered</td>\n",
       "      <td>5</td>\n",
       "      <td>4</td>\n",
       "      <td>103336</td>\n",
       "      <td>160</td>\n",
       "    </tr>\n",
       "    <tr>\n",
       "      <th>84</th>\n",
       "      <td>TM498</td>\n",
       "      <td>21</td>\n",
       "      <td>Female</td>\n",
       "      <td>14</td>\n",
       "      <td>Partnered</td>\n",
       "      <td>5</td>\n",
       "      <td>4</td>\n",
       "      <td>34110</td>\n",
       "      <td>212</td>\n",
       "    </tr>\n",
       "    <tr>\n",
       "      <th>132</th>\n",
       "      <td>TM498</td>\n",
       "      <td>37</td>\n",
       "      <td>Female</td>\n",
       "      <td>16</td>\n",
       "      <td>Partnered</td>\n",
       "      <td>2</td>\n",
       "      <td>3</td>\n",
       "      <td>48891</td>\n",
       "      <td>85</td>\n",
       "    </tr>\n",
       "    <tr>\n",
       "      <th>121</th>\n",
       "      <td>TM498</td>\n",
       "      <td>33</td>\n",
       "      <td>Female</td>\n",
       "      <td>16</td>\n",
       "      <td>Partnered</td>\n",
       "      <td>2</td>\n",
       "      <td>3</td>\n",
       "      <td>50028</td>\n",
       "      <td>85</td>\n",
       "    </tr>\n",
       "    <tr>\n",
       "      <th>21</th>\n",
       "      <td>TM195</td>\n",
       "      <td>23</td>\n",
       "      <td>Male</td>\n",
       "      <td>16</td>\n",
       "      <td>Single</td>\n",
       "      <td>4</td>\n",
       "      <td>3</td>\n",
       "      <td>40932</td>\n",
       "      <td>94</td>\n",
       "    </tr>\n",
       "    <tr>\n",
       "      <th>119</th>\n",
       "      <td>TM498</td>\n",
       "      <td>32</td>\n",
       "      <td>Male</td>\n",
       "      <td>16</td>\n",
       "      <td>Partnered</td>\n",
       "      <td>3</td>\n",
       "      <td>3</td>\n",
       "      <td>53439</td>\n",
       "      <td>95</td>\n",
       "    </tr>\n",
       "    <tr>\n",
       "      <th>148</th>\n",
       "      <td>TM798</td>\n",
       "      <td>24</td>\n",
       "      <td>Female</td>\n",
       "      <td>16</td>\n",
       "      <td>Single</td>\n",
       "      <td>5</td>\n",
       "      <td>5</td>\n",
       "      <td>52291</td>\n",
       "      <td>200</td>\n",
       "    </tr>\n",
       "  </tbody>\n",
       "</table>\n",
       "</div>"
      ],
      "text/plain": [
       "    Product  Age  Gender  Education MaritalStatus  Usage  Fitness  Income  \\\n",
       "93    TM498   23    Male         16     Partnered      3        3   45480   \n",
       "32    TM195   25  Female         16     Partnered      2        2   40932   \n",
       "172   TM798   34    Male         16        Single      5        5   92131   \n",
       "168   TM798   30    Male         18     Partnered      5        4  103336   \n",
       "84    TM498   21  Female         14     Partnered      5        4   34110   \n",
       "132   TM498   37  Female         16     Partnered      2        3   48891   \n",
       "121   TM498   33  Female         16     Partnered      2        3   50028   \n",
       "21    TM195   23    Male         16        Single      4        3   40932   \n",
       "119   TM498   32    Male         16     Partnered      3        3   53439   \n",
       "148   TM798   24  Female         16        Single      5        5   52291   \n",
       "\n",
       "     Miles  \n",
       "93      64  \n",
       "32      47  \n",
       "172    150  \n",
       "168    160  \n",
       "84     212  \n",
       "132     85  \n",
       "121     85  \n",
       "21      94  \n",
       "119     95  \n",
       "148    200  "
      ]
     },
     "execution_count": 5,
     "metadata": {},
     "output_type": "execute_result"
    }
   ],
   "source": [
    "df.loc[np.random.randint(1,179,10)]"
   ]
  },
  {
   "cell_type": "markdown",
   "id": "19679fc5",
   "metadata": {
    "_cell_guid": "3e97841f-a117-4e27-8ecc-4c91700624d4",
    "_uuid": "5f2b6455-8bb3-484b-909a-fa76b159166b",
    "papermill": {
     "duration": 0.011306,
     "end_time": "2022-09-11T12:03:31.885600",
     "exception": false,
     "start_time": "2022-09-11T12:03:31.874294",
     "status": "completed"
    },
    "tags": []
   },
   "source": [
    "Extracting random values to avoid any type baising in the dataset in the first or last columns. Generating random values of indexes helps to check even if there is a null value, in between the dataset, without using info() or isnull() functions. The value of extracting null value in the complete dataset using random indexing is compeltely probability based."
   ]
  },
  {
   "cell_type": "code",
   "execution_count": 6,
   "id": "23956e41",
   "metadata": {
    "_cell_guid": "ccae5612-275f-4d8b-b579-38c1922401e4",
    "_uuid": "62fd1453-5595-48c6-a5ad-8da1276f0934",
    "collapsed": false,
    "execution": {
     "iopub.execute_input": "2022-09-11T12:03:31.911544Z",
     "iopub.status.busy": "2022-09-11T12:03:31.910607Z",
     "iopub.status.idle": "2022-09-11T12:03:31.918266Z",
     "shell.execute_reply": "2022-09-11T12:03:31.917366Z"
    },
    "jupyter": {
     "outputs_hidden": false
    },
    "papermill": {
     "duration": 0.023278,
     "end_time": "2022-09-11T12:03:31.920490",
     "exception": false,
     "start_time": "2022-09-11T12:03:31.897212",
     "status": "completed"
    },
    "tags": []
   },
   "outputs": [
    {
     "data": {
      "text/plain": [
       "Index(['Product', 'Age', 'Gender', 'Education', 'MaritalStatus', 'Usage',\n",
       "       'Fitness', 'Income', 'Miles'],\n",
       "      dtype='object')"
      ]
     },
     "execution_count": 6,
     "metadata": {},
     "output_type": "execute_result"
    }
   ],
   "source": [
    "df.columns"
   ]
  },
  {
   "cell_type": "markdown",
   "id": "a9fbd74e",
   "metadata": {
    "_cell_guid": "68e4d622-71e6-4ba3-aa48-bbd65a89b40a",
    "_uuid": "533b030a-accf-4d2f-b08a-efd0798837b0",
    "papermill": {
     "duration": 0.011337,
     "end_time": "2022-09-11T12:03:31.943505",
     "exception": false,
     "start_time": "2022-09-11T12:03:31.932168",
     "status": "completed"
    },
    "tags": []
   },
   "source": [
    "Extracting all the column names. Its just a check weather all the columns are extracted during head() or tail() function. The columns method helps to extract only column name from the dataset. Usually only first line of the dataset, is extracted for naming columns."
   ]
  },
  {
   "cell_type": "markdown",
   "id": "5f6f15d5",
   "metadata": {
    "papermill": {
     "duration": 0.011661,
     "end_time": "2022-09-11T12:03:31.967004",
     "exception": false,
     "start_time": "2022-09-11T12:03:31.955343",
     "status": "completed"
    },
    "tags": []
   },
   "source": [
    "<H2>Understanding the Data</H2>"
   ]
  },
  {
   "cell_type": "code",
   "execution_count": 7,
   "id": "94ad2221",
   "metadata": {
    "_cell_guid": "849c0ba3-f316-4199-bb70-c5b52b5cd3a8",
    "_uuid": "8cdf0281-2c26-4b5f-a3da-06f987ef74a5",
    "collapsed": false,
    "execution": {
     "iopub.execute_input": "2022-09-11T12:03:31.994500Z",
     "iopub.status.busy": "2022-09-11T12:03:31.993671Z",
     "iopub.status.idle": "2022-09-11T12:03:32.023010Z",
     "shell.execute_reply": "2022-09-11T12:03:32.021529Z"
    },
    "jupyter": {
     "outputs_hidden": false
    },
    "papermill": {
     "duration": 0.046821,
     "end_time": "2022-09-11T12:03:32.026748",
     "exception": false,
     "start_time": "2022-09-11T12:03:31.979927",
     "status": "completed"
    },
    "tags": []
   },
   "outputs": [
    {
     "name": "stdout",
     "output_type": "stream",
     "text": [
      "<class 'pandas.core.frame.DataFrame'>\n",
      "RangeIndex: 180 entries, 0 to 179\n",
      "Data columns (total 9 columns):\n",
      " #   Column         Non-Null Count  Dtype \n",
      "---  ------         --------------  ----- \n",
      " 0   Product        180 non-null    object\n",
      " 1   Age            180 non-null    int64 \n",
      " 2   Gender         180 non-null    object\n",
      " 3   Education      180 non-null    int64 \n",
      " 4   MaritalStatus  180 non-null    object\n",
      " 5   Usage          180 non-null    int64 \n",
      " 6   Fitness        180 non-null    int64 \n",
      " 7   Income         180 non-null    int64 \n",
      " 8   Miles          180 non-null    int64 \n",
      "dtypes: int64(6), object(3)\n",
      "memory usage: 12.8+ KB\n"
     ]
    }
   ],
   "source": [
    "df.info()"
   ]
  },
  {
   "cell_type": "markdown",
   "id": "868c37fe",
   "metadata": {
    "_cell_guid": "fb87473f-b84a-495f-b3cf-d4cd35398eca",
    "_uuid": "743e278e-46ad-489b-8480-47201892f6af",
    "papermill": {
     "duration": 0.011595,
     "end_time": "2022-09-11T12:03:32.050849",
     "exception": false,
     "start_time": "2022-09-11T12:03:32.039254",
     "status": "completed"
    },
    "tags": []
   },
   "source": [
    "By the results gained above, we can see the total count data in each column is 180 line items and the data type of each column is defined along side."
   ]
  },
  {
   "cell_type": "code",
   "execution_count": 8,
   "id": "81b3e05a",
   "metadata": {
    "_cell_guid": "b4e9efd9-3257-405a-8be7-a1e153fb8fff",
    "_uuid": "85ab1fd0-3810-4c68-a194-db92783f949c",
    "collapsed": false,
    "execution": {
     "iopub.execute_input": "2022-09-11T12:03:32.076860Z",
     "iopub.status.busy": "2022-09-11T12:03:32.076395Z",
     "iopub.status.idle": "2022-09-11T12:03:32.114128Z",
     "shell.execute_reply": "2022-09-11T12:03:32.112692Z"
    },
    "jupyter": {
     "outputs_hidden": false
    },
    "papermill": {
     "duration": 0.053881,
     "end_time": "2022-09-11T12:03:32.116787",
     "exception": false,
     "start_time": "2022-09-11T12:03:32.062906",
     "status": "completed"
    },
    "tags": []
   },
   "outputs": [
    {
     "data": {
      "text/html": [
       "<div>\n",
       "<style scoped>\n",
       "    .dataframe tbody tr th:only-of-type {\n",
       "        vertical-align: middle;\n",
       "    }\n",
       "\n",
       "    .dataframe tbody tr th {\n",
       "        vertical-align: top;\n",
       "    }\n",
       "\n",
       "    .dataframe thead th {\n",
       "        text-align: right;\n",
       "    }\n",
       "</style>\n",
       "<table border=\"1\" class=\"dataframe\">\n",
       "  <thead>\n",
       "    <tr style=\"text-align: right;\">\n",
       "      <th></th>\n",
       "      <th>Age</th>\n",
       "      <th>Education</th>\n",
       "      <th>Usage</th>\n",
       "      <th>Fitness</th>\n",
       "      <th>Income</th>\n",
       "      <th>Miles</th>\n",
       "    </tr>\n",
       "  </thead>\n",
       "  <tbody>\n",
       "    <tr>\n",
       "      <th>count</th>\n",
       "      <td>180.0</td>\n",
       "      <td>180.0</td>\n",
       "      <td>180.0</td>\n",
       "      <td>180.0</td>\n",
       "      <td>180.0</td>\n",
       "      <td>180.0</td>\n",
       "    </tr>\n",
       "    <tr>\n",
       "      <th>mean</th>\n",
       "      <td>28.8</td>\n",
       "      <td>15.6</td>\n",
       "      <td>3.5</td>\n",
       "      <td>3.3</td>\n",
       "      <td>53719.6</td>\n",
       "      <td>103.2</td>\n",
       "    </tr>\n",
       "    <tr>\n",
       "      <th>std</th>\n",
       "      <td>6.9</td>\n",
       "      <td>1.6</td>\n",
       "      <td>1.1</td>\n",
       "      <td>1.0</td>\n",
       "      <td>16506.7</td>\n",
       "      <td>51.9</td>\n",
       "    </tr>\n",
       "    <tr>\n",
       "      <th>min</th>\n",
       "      <td>18.0</td>\n",
       "      <td>12.0</td>\n",
       "      <td>2.0</td>\n",
       "      <td>1.0</td>\n",
       "      <td>29562.0</td>\n",
       "      <td>21.0</td>\n",
       "    </tr>\n",
       "    <tr>\n",
       "      <th>25%</th>\n",
       "      <td>24.0</td>\n",
       "      <td>14.0</td>\n",
       "      <td>3.0</td>\n",
       "      <td>3.0</td>\n",
       "      <td>44058.8</td>\n",
       "      <td>66.0</td>\n",
       "    </tr>\n",
       "    <tr>\n",
       "      <th>50%</th>\n",
       "      <td>26.0</td>\n",
       "      <td>16.0</td>\n",
       "      <td>3.0</td>\n",
       "      <td>3.0</td>\n",
       "      <td>50596.5</td>\n",
       "      <td>94.0</td>\n",
       "    </tr>\n",
       "    <tr>\n",
       "      <th>75%</th>\n",
       "      <td>33.0</td>\n",
       "      <td>16.0</td>\n",
       "      <td>4.0</td>\n",
       "      <td>4.0</td>\n",
       "      <td>58668.0</td>\n",
       "      <td>114.8</td>\n",
       "    </tr>\n",
       "    <tr>\n",
       "      <th>max</th>\n",
       "      <td>50.0</td>\n",
       "      <td>21.0</td>\n",
       "      <td>7.0</td>\n",
       "      <td>5.0</td>\n",
       "      <td>104581.0</td>\n",
       "      <td>360.0</td>\n",
       "    </tr>\n",
       "  </tbody>\n",
       "</table>\n",
       "</div>"
      ],
      "text/plain": [
       "         Age  Education  Usage  Fitness    Income  Miles\n",
       "count  180.0      180.0  180.0    180.0     180.0  180.0\n",
       "mean    28.8       15.6    3.5      3.3   53719.6  103.2\n",
       "std      6.9        1.6    1.1      1.0   16506.7   51.9\n",
       "min     18.0       12.0    2.0      1.0   29562.0   21.0\n",
       "25%     24.0       14.0    3.0      3.0   44058.8   66.0\n",
       "50%     26.0       16.0    3.0      3.0   50596.5   94.0\n",
       "75%     33.0       16.0    4.0      4.0   58668.0  114.8\n",
       "max     50.0       21.0    7.0      5.0  104581.0  360.0"
      ]
     },
     "execution_count": 8,
     "metadata": {},
     "output_type": "execute_result"
    }
   ],
   "source": [
    "df.describe().round(1)"
   ]
  },
  {
   "cell_type": "markdown",
   "id": "c211a979",
   "metadata": {
    "papermill": {
     "duration": 0.011807,
     "end_time": "2022-09-11T12:03:32.140798",
     "exception": false,
     "start_time": "2022-09-11T12:03:32.128991",
     "status": "completed"
    },
    "tags": []
   },
   "source": [
    "Here we can see the basic statistics of the dataset, for columns having numerical datatype. Inferences: \n",
    "1. The average age of the person using the cardio fitness equipment is 28.8 years(mean), while the age of an average person is 26 years(median) who is purchasing the cardio equipment.\n",
    "2. Here we can see approx 90/180 people(surveyed) who are buying the cardio equipments are between the age of 18 years to 26 years,earning from 29.5K to 50.5K.\n",
    "3. Almost 25% of the people lies in the higher age category i.e. between 33 years to 50 years.\n",
    "4. On an average 103.2 miles are ran by a person over the treadmill"
   ]
  },
  {
   "cell_type": "code",
   "execution_count": 9,
   "id": "b753dfa1",
   "metadata": {
    "_cell_guid": "0110b9d1-2c95-48e1-b0e9-e4461cf59ecb",
    "_uuid": "358990bf-135e-4dc9-b352-ad924ecb94bc",
    "collapsed": false,
    "execution": {
     "iopub.execute_input": "2022-09-11T12:03:32.167045Z",
     "iopub.status.busy": "2022-09-11T12:03:32.166616Z",
     "iopub.status.idle": "2022-09-11T12:03:32.185919Z",
     "shell.execute_reply": "2022-09-11T12:03:32.184494Z"
    },
    "jupyter": {
     "outputs_hidden": false
    },
    "papermill": {
     "duration": 0.035376,
     "end_time": "2022-09-11T12:03:32.188420",
     "exception": false,
     "start_time": "2022-09-11T12:03:32.153044",
     "status": "completed"
    },
    "tags": []
   },
   "outputs": [
    {
     "data": {
      "text/html": [
       "<div>\n",
       "<style scoped>\n",
       "    .dataframe tbody tr th:only-of-type {\n",
       "        vertical-align: middle;\n",
       "    }\n",
       "\n",
       "    .dataframe tbody tr th {\n",
       "        vertical-align: top;\n",
       "    }\n",
       "\n",
       "    .dataframe thead th {\n",
       "        text-align: right;\n",
       "    }\n",
       "</style>\n",
       "<table border=\"1\" class=\"dataframe\">\n",
       "  <thead>\n",
       "    <tr style=\"text-align: right;\">\n",
       "      <th></th>\n",
       "      <th>Product</th>\n",
       "      <th>Gender</th>\n",
       "      <th>MaritalStatus</th>\n",
       "    </tr>\n",
       "  </thead>\n",
       "  <tbody>\n",
       "    <tr>\n",
       "      <th>count</th>\n",
       "      <td>180</td>\n",
       "      <td>180</td>\n",
       "      <td>180</td>\n",
       "    </tr>\n",
       "    <tr>\n",
       "      <th>unique</th>\n",
       "      <td>3</td>\n",
       "      <td>2</td>\n",
       "      <td>2</td>\n",
       "    </tr>\n",
       "    <tr>\n",
       "      <th>top</th>\n",
       "      <td>TM195</td>\n",
       "      <td>Male</td>\n",
       "      <td>Partnered</td>\n",
       "    </tr>\n",
       "    <tr>\n",
       "      <th>freq</th>\n",
       "      <td>80</td>\n",
       "      <td>104</td>\n",
       "      <td>107</td>\n",
       "    </tr>\n",
       "  </tbody>\n",
       "</table>\n",
       "</div>"
      ],
      "text/plain": [
       "       Product Gender MaritalStatus\n",
       "count      180    180           180\n",
       "unique       3      2             2\n",
       "top      TM195   Male     Partnered\n",
       "freq        80    104           107"
      ]
     },
     "execution_count": 9,
     "metadata": {},
     "output_type": "execute_result"
    }
   ],
   "source": [
    "df.describe(include='O')"
   ]
  },
  {
   "cell_type": "markdown",
   "id": "86b61a54",
   "metadata": {
    "papermill": {
     "duration": 0.012197,
     "end_time": "2022-09-11T12:03:32.213287",
     "exception": false,
     "start_time": "2022-09-11T12:03:32.201090",
     "status": "completed"
    },
    "tags": []
   },
   "source": [
    "The basic stats for the columns having categorical data is shown.\n",
    "1. In total 3 unique treadmills are being used for the generation of dataset\n",
    "2. 104/180 line items are there for the male gender and 107/108 people are married/partnered based on their maritial status.\n",
    "3. The top most used treadmill is TM195, having in total selection for 80/180 line items i.e. 44.4%."
   ]
  },
  {
   "cell_type": "code",
   "execution_count": 10,
   "id": "64f8e735",
   "metadata": {
    "_cell_guid": "cf22a4dd-b4ed-485e-9c50-13d4d883db7a",
    "_uuid": "ba675e43-8a38-490d-8acd-c2cab8fc1abd",
    "collapsed": false,
    "execution": {
     "iopub.execute_input": "2022-09-11T12:03:32.241295Z",
     "iopub.status.busy": "2022-09-11T12:03:32.240807Z",
     "iopub.status.idle": "2022-09-11T12:03:32.284634Z",
     "shell.execute_reply": "2022-09-11T12:03:32.283249Z"
    },
    "jupyter": {
     "outputs_hidden": false
    },
    "papermill": {
     "duration": 0.060588,
     "end_time": "2022-09-11T12:03:32.287114",
     "exception": false,
     "start_time": "2022-09-11T12:03:32.226526",
     "status": "completed"
    },
    "tags": []
   },
   "outputs": [
    {
     "data": {
      "text/html": [
       "<div>\n",
       "<style scoped>\n",
       "    .dataframe tbody tr th:only-of-type {\n",
       "        vertical-align: middle;\n",
       "    }\n",
       "\n",
       "    .dataframe tbody tr th {\n",
       "        vertical-align: top;\n",
       "    }\n",
       "\n",
       "    .dataframe thead th {\n",
       "        text-align: right;\n",
       "    }\n",
       "</style>\n",
       "<table border=\"1\" class=\"dataframe\">\n",
       "  <thead>\n",
       "    <tr style=\"text-align: right;\">\n",
       "      <th></th>\n",
       "      <th>count</th>\n",
       "      <th>unique</th>\n",
       "      <th>top</th>\n",
       "      <th>freq</th>\n",
       "      <th>mean</th>\n",
       "      <th>std</th>\n",
       "      <th>min</th>\n",
       "      <th>25%</th>\n",
       "      <th>50%</th>\n",
       "      <th>75%</th>\n",
       "      <th>max</th>\n",
       "    </tr>\n",
       "  </thead>\n",
       "  <tbody>\n",
       "    <tr>\n",
       "      <th>Product</th>\n",
       "      <td>180</td>\n",
       "      <td>3</td>\n",
       "      <td>TM195</td>\n",
       "      <td>80</td>\n",
       "      <td>NaN</td>\n",
       "      <td>NaN</td>\n",
       "      <td>NaN</td>\n",
       "      <td>NaN</td>\n",
       "      <td>NaN</td>\n",
       "      <td>NaN</td>\n",
       "      <td>NaN</td>\n",
       "    </tr>\n",
       "    <tr>\n",
       "      <th>Age</th>\n",
       "      <td>180.0</td>\n",
       "      <td>NaN</td>\n",
       "      <td>NaN</td>\n",
       "      <td>NaN</td>\n",
       "      <td>28.8</td>\n",
       "      <td>6.9</td>\n",
       "      <td>18.0</td>\n",
       "      <td>24.0</td>\n",
       "      <td>26.0</td>\n",
       "      <td>33.0</td>\n",
       "      <td>50.0</td>\n",
       "    </tr>\n",
       "    <tr>\n",
       "      <th>Gender</th>\n",
       "      <td>180</td>\n",
       "      <td>2</td>\n",
       "      <td>Male</td>\n",
       "      <td>104</td>\n",
       "      <td>NaN</td>\n",
       "      <td>NaN</td>\n",
       "      <td>NaN</td>\n",
       "      <td>NaN</td>\n",
       "      <td>NaN</td>\n",
       "      <td>NaN</td>\n",
       "      <td>NaN</td>\n",
       "    </tr>\n",
       "    <tr>\n",
       "      <th>Education</th>\n",
       "      <td>180.0</td>\n",
       "      <td>NaN</td>\n",
       "      <td>NaN</td>\n",
       "      <td>NaN</td>\n",
       "      <td>15.6</td>\n",
       "      <td>1.6</td>\n",
       "      <td>12.0</td>\n",
       "      <td>14.0</td>\n",
       "      <td>16.0</td>\n",
       "      <td>16.0</td>\n",
       "      <td>21.0</td>\n",
       "    </tr>\n",
       "    <tr>\n",
       "      <th>MaritalStatus</th>\n",
       "      <td>180</td>\n",
       "      <td>2</td>\n",
       "      <td>Partnered</td>\n",
       "      <td>107</td>\n",
       "      <td>NaN</td>\n",
       "      <td>NaN</td>\n",
       "      <td>NaN</td>\n",
       "      <td>NaN</td>\n",
       "      <td>NaN</td>\n",
       "      <td>NaN</td>\n",
       "      <td>NaN</td>\n",
       "    </tr>\n",
       "    <tr>\n",
       "      <th>Usage</th>\n",
       "      <td>180.0</td>\n",
       "      <td>NaN</td>\n",
       "      <td>NaN</td>\n",
       "      <td>NaN</td>\n",
       "      <td>3.5</td>\n",
       "      <td>1.1</td>\n",
       "      <td>2.0</td>\n",
       "      <td>3.0</td>\n",
       "      <td>3.0</td>\n",
       "      <td>4.0</td>\n",
       "      <td>7.0</td>\n",
       "    </tr>\n",
       "    <tr>\n",
       "      <th>Fitness</th>\n",
       "      <td>180.0</td>\n",
       "      <td>NaN</td>\n",
       "      <td>NaN</td>\n",
       "      <td>NaN</td>\n",
       "      <td>3.3</td>\n",
       "      <td>1.0</td>\n",
       "      <td>1.0</td>\n",
       "      <td>3.0</td>\n",
       "      <td>3.0</td>\n",
       "      <td>4.0</td>\n",
       "      <td>5.0</td>\n",
       "    </tr>\n",
       "    <tr>\n",
       "      <th>Income</th>\n",
       "      <td>180.0</td>\n",
       "      <td>NaN</td>\n",
       "      <td>NaN</td>\n",
       "      <td>NaN</td>\n",
       "      <td>53719.6</td>\n",
       "      <td>16506.7</td>\n",
       "      <td>29562.0</td>\n",
       "      <td>44058.8</td>\n",
       "      <td>50596.5</td>\n",
       "      <td>58668.0</td>\n",
       "      <td>104581.0</td>\n",
       "    </tr>\n",
       "    <tr>\n",
       "      <th>Miles</th>\n",
       "      <td>180.0</td>\n",
       "      <td>NaN</td>\n",
       "      <td>NaN</td>\n",
       "      <td>NaN</td>\n",
       "      <td>103.2</td>\n",
       "      <td>51.9</td>\n",
       "      <td>21.0</td>\n",
       "      <td>66.0</td>\n",
       "      <td>94.0</td>\n",
       "      <td>114.8</td>\n",
       "      <td>360.0</td>\n",
       "    </tr>\n",
       "  </tbody>\n",
       "</table>\n",
       "</div>"
      ],
      "text/plain": [
       "               count unique        top freq     mean      std      min  \\\n",
       "Product          180      3      TM195   80      NaN      NaN      NaN   \n",
       "Age            180.0    NaN        NaN  NaN     28.8      6.9     18.0   \n",
       "Gender           180      2       Male  104      NaN      NaN      NaN   \n",
       "Education      180.0    NaN        NaN  NaN     15.6      1.6     12.0   \n",
       "MaritalStatus    180      2  Partnered  107      NaN      NaN      NaN   \n",
       "Usage          180.0    NaN        NaN  NaN      3.5      1.1      2.0   \n",
       "Fitness        180.0    NaN        NaN  NaN      3.3      1.0      1.0   \n",
       "Income         180.0    NaN        NaN  NaN  53719.6  16506.7  29562.0   \n",
       "Miles          180.0    NaN        NaN  NaN    103.2     51.9     21.0   \n",
       "\n",
       "                   25%      50%      75%       max  \n",
       "Product            NaN      NaN      NaN       NaN  \n",
       "Age               24.0     26.0     33.0      50.0  \n",
       "Gender             NaN      NaN      NaN       NaN  \n",
       "Education         14.0     16.0     16.0      21.0  \n",
       "MaritalStatus      NaN      NaN      NaN       NaN  \n",
       "Usage              3.0      3.0      4.0       7.0  \n",
       "Fitness            3.0      3.0      4.0       5.0  \n",
       "Income         44058.8  50596.5  58668.0  104581.0  \n",
       "Miles             66.0     94.0    114.8     360.0  "
      ]
     },
     "execution_count": 10,
     "metadata": {},
     "output_type": "execute_result"
    }
   ],
   "source": [
    "df.describe(include='all').round(1).T"
   ]
  },
  {
   "cell_type": "markdown",
   "id": "18309e80",
   "metadata": {
    "papermill": {
     "duration": 0.012662,
     "end_time": "2022-09-11T12:03:32.312719",
     "exception": false,
     "start_time": "2022-09-11T12:03:32.300057",
     "status": "completed"
    },
    "tags": []
   },
   "source": [
    "Here we can see all the columns and their basic statistics as discussed above."
   ]
  },
  {
   "cell_type": "code",
   "execution_count": 11,
   "id": "7f0bba72",
   "metadata": {
    "execution": {
     "iopub.execute_input": "2022-09-11T12:03:32.341350Z",
     "iopub.status.busy": "2022-09-11T12:03:32.340927Z",
     "iopub.status.idle": "2022-09-11T12:03:32.351419Z",
     "shell.execute_reply": "2022-09-11T12:03:32.350090Z"
    },
    "papermill": {
     "duration": 0.028774,
     "end_time": "2022-09-11T12:03:32.354154",
     "exception": false,
     "start_time": "2022-09-11T12:03:32.325380",
     "status": "completed"
    },
    "tags": []
   },
   "outputs": [
    {
     "data": {
      "text/plain": [
       "Product          0\n",
       "Age              0\n",
       "Gender           0\n",
       "Education        0\n",
       "MaritalStatus    0\n",
       "Usage            0\n",
       "Fitness          0\n",
       "Income           0\n",
       "Miles            0\n",
       "dtype: int64"
      ]
     },
     "execution_count": 11,
     "metadata": {},
     "output_type": "execute_result"
    }
   ],
   "source": [
    "df.isnull().sum()"
   ]
  },
  {
   "cell_type": "markdown",
   "id": "300acf85",
   "metadata": {
    "papermill": {
     "duration": 0.012623,
     "end_time": "2022-09-11T12:03:32.380406",
     "exception": false,
     "start_time": "2022-09-11T12:03:32.367783",
     "status": "completed"
    },
    "tags": []
   },
   "source": [
    "The check for null values is done, as depicted no null value is present in either of the column. The same is checked by using info() function, where the non-null values were counted."
   ]
  },
  {
   "cell_type": "code",
   "execution_count": 12,
   "id": "2c9ecc37",
   "metadata": {
    "_cell_guid": "767f6773-40a2-413b-b957-c98d25cd1ddf",
    "_uuid": "e1c432da-544b-4926-b2a7-4caa83e0d59e",
    "collapsed": false,
    "execution": {
     "iopub.execute_input": "2022-09-11T12:03:32.407720Z",
     "iopub.status.busy": "2022-09-11T12:03:32.407279Z",
     "iopub.status.idle": "2022-09-11T12:03:32.672422Z",
     "shell.execute_reply": "2022-09-11T12:03:32.670915Z"
    },
    "jupyter": {
     "outputs_hidden": false
    },
    "papermill": {
     "duration": 0.282006,
     "end_time": "2022-09-11T12:03:32.675121",
     "exception": false,
     "start_time": "2022-09-11T12:03:32.393115",
     "status": "completed"
    },
    "tags": []
   },
   "outputs": [
    {
     "data": {
      "text/plain": [
       "<matplotlib.lines.Line2D at 0x7f1c3ca7fb10>"
      ]
     },
     "execution_count": 12,
     "metadata": {},
     "output_type": "execute_result"
    },
    {
     "data": {
      "image/png": "[encoded data removed]",
      "text/plain": [
       "<Figure size 432x288 with 1 Axes>"
      ]
     },
     "metadata": {
      "needs_background": "light"
     },
     "output_type": "display_data"
    }
   ],
   "source": [
    "male=df[df['Gender']=='Male']\n",
    "female=df[df['Gender']=='Female']\n",
    "df.Gender.value_counts().plot.bar()\n",
    "plt.axhline(male['Gender'].count(),color='y', linewidth=2, linestyle='--')\n",
    "plt.axhline(female['Gender'].count(),color='y', linewidth=2, linestyle='--')"
   ]
  },
  {
   "cell_type": "markdown",
   "id": "04697287",
   "metadata": {
    "papermill": {
     "duration": 0.012916,
     "end_time": "2022-09-11T12:03:32.701315",
     "exception": false,
     "start_time": "2022-09-11T12:03:32.688399",
     "status": "completed"
    },
    "tags": []
   },
   "source": [
    "As discussed previously, the total no of male subjects for the survey was 104 and females were 76. The same is shown in the chart above."
   ]
  },
  {
   "cell_type": "code",
   "execution_count": 13,
   "id": "d14194bf",
   "metadata": {
    "execution": {
     "iopub.execute_input": "2022-09-11T12:03:32.730196Z",
     "iopub.status.busy": "2022-09-11T12:03:32.729772Z",
     "iopub.status.idle": "2022-09-11T12:03:32.797409Z",
     "shell.execute_reply": "2022-09-11T12:03:32.795943Z"
    },
    "papermill": {
     "duration": 0.085562,
     "end_time": "2022-09-11T12:03:32.800361",
     "exception": false,
     "start_time": "2022-09-11T12:03:32.714799",
     "status": "completed"
    },
    "tags": []
   },
   "outputs": [],
   "source": [
    "pd.pivot_table?"
   ]
  },
  {
   "cell_type": "code",
   "execution_count": 14,
   "id": "e0f6c8c8",
   "metadata": {
    "_cell_guid": "49e0e8f1-1804-4c38-9d4d-065dd16b8994",
    "_uuid": "7fb1cf19-40d1-4c9d-b424-d02e7fa51db0",
    "collapsed": false,
    "execution": {
     "iopub.execute_input": "2022-09-11T12:03:32.829525Z",
     "iopub.status.busy": "2022-09-11T12:03:32.829078Z",
     "iopub.status.idle": "2022-09-11T12:03:33.085275Z",
     "shell.execute_reply": "2022-09-11T12:03:33.084073Z"
    },
    "jupyter": {
     "outputs_hidden": false
    },
    "papermill": {
     "duration": 0.274088,
     "end_time": "2022-09-11T12:03:33.087859",
     "exception": false,
     "start_time": "2022-09-11T12:03:32.813771",
     "status": "completed"
    },
    "tags": []
   },
   "outputs": [
    {
     "data": {
      "text/plain": [
       "<AxesSubplot:xlabel='Age', ylabel='Density'>"
      ]
     },
     "execution_count": 14,
     "metadata": {},
     "output_type": "execute_result"
    },
    {
     "data": {
      "image/png": "[encoded data removed]",
      "text/plain": [
       "<Figure size 432x288 with 1 Axes>"
      ]
     },
     "metadata": {
      "needs_background": "light"
     },
     "output_type": "display_data"
    }
   ],
   "source": [
    "sns.distplot(df['Age'])"
   ]
  },
  {
   "cell_type": "markdown",
   "id": "322d2bce",
   "metadata": {
    "papermill": {
     "duration": 0.013473,
     "end_time": "2022-09-11T12:03:33.115548",
     "exception": false,
     "start_time": "2022-09-11T12:03:33.102075",
     "status": "completed"
    },
    "tags": []
   },
   "source": [
    "The distribution plot, depicts the behaviour of the data. As seen, the data is right skewed based on age. The mean of the age is 28.8 years while the median is 26 years. The value of skewness is approx 0.98(derived below)."
   ]
  },
  {
   "cell_type": "code",
   "execution_count": 15,
   "id": "92308815",
   "metadata": {
    "execution": {
     "iopub.execute_input": "2022-09-11T12:03:33.146034Z",
     "iopub.status.busy": "2022-09-11T12:03:33.145189Z",
     "iopub.status.idle": "2022-09-11T12:03:33.153016Z",
     "shell.execute_reply": "2022-09-11T12:03:33.152149Z"
    },
    "papermill": {
     "duration": 0.025448,
     "end_time": "2022-09-11T12:03:33.155194",
     "exception": false,
     "start_time": "2022-09-11T12:03:33.129746",
     "status": "completed"
    },
    "tags": []
   },
   "outputs": [
    {
     "data": {
      "text/plain": [
       "0.9821608255301499"
      ]
     },
     "execution_count": 15,
     "metadata": {},
     "output_type": "execute_result"
    }
   ],
   "source": [
    "df['Age'].skew()"
   ]
  },
  {
   "cell_type": "code",
   "execution_count": 16,
   "id": "7daecada",
   "metadata": {
    "_cell_guid": "3b3c01d1-fc6c-4a06-a68b-40928e4c40e0",
    "_uuid": "5fcbed2c-d73f-4138-a86d-b351e7139410",
    "collapsed": false,
    "execution": {
     "iopub.execute_input": "2022-09-11T12:03:33.185697Z",
     "iopub.status.busy": "2022-09-11T12:03:33.184435Z",
     "iopub.status.idle": "2022-09-11T12:03:33.454167Z",
     "shell.execute_reply": "2022-09-11T12:03:33.453078Z"
    },
    "jupyter": {
     "outputs_hidden": false
    },
    "papermill": {
     "duration": 0.287734,
     "end_time": "2022-09-11T12:03:33.457017",
     "exception": false,
     "start_time": "2022-09-11T12:03:33.169283",
     "status": "completed"
    },
    "tags": []
   },
   "outputs": [
    {
     "data": {
      "text/plain": [
       "<AxesSubplot:xlabel='Miles', ylabel='Density'>"
      ]
     },
     "execution_count": 16,
     "metadata": {},
     "output_type": "execute_result"
    },
    {
     "data": {
      "image/png": "[encoded data removed]",
      "text/plain": [
       "<Figure size 432x288 with 1 Axes>"
      ]
     },
     "metadata": {
      "needs_background": "light"
     },
     "output_type": "display_data"
    }
   ],
   "source": [
    "sns.distplot(df['Miles'])"
   ]
  },
  {
   "cell_type": "code",
   "execution_count": 17,
   "id": "46b18ea4",
   "metadata": {
    "_cell_guid": "5ea488ab-e2dc-4925-a8ee-d0792b20cae2",
    "_uuid": "94b62f79-3eac-4a26-be10-fdc8c6d8ca3d",
    "collapsed": false,
    "execution": {
     "iopub.execute_input": "2022-09-11T12:03:33.487039Z",
     "iopub.status.busy": "2022-09-11T12:03:33.486578Z",
     "iopub.status.idle": "2022-09-11T12:03:40.533801Z",
     "shell.execute_reply": "2022-09-11T12:03:40.532135Z"
    },
    "jupyter": {
     "outputs_hidden": false
    },
    "papermill": {
     "duration": 7.066551,
     "end_time": "2022-09-11T12:03:40.537715",
     "exception": false,
     "start_time": "2022-09-11T12:03:33.471164",
     "status": "completed"
    },
    "tags": []
   },
   "outputs": [
    {
     "data": {
      "text/plain": [
       "<seaborn.axisgrid.PairGrid at 0x7f1c34865f50>"
      ]
     },
     "execution_count": 17,
     "metadata": {},
     "output_type": "execute_result"
    },
    {
     "data": {
      "image/png": "[encoded data removed]",
      "text/plain": [
       "<Figure size 1080x1080 with 42 Axes>"
      ]
     },
     "metadata": {
      "needs_background": "light"
     },
     "output_type": "display_data"
    }
   ],
   "source": [
    "sns.pairplot(df)"
   ]
  },
  {
   "cell_type": "code",
   "execution_count": 18,
   "id": "7e648383",
   "metadata": {
    "_cell_guid": "5f34c2ae-acae-42a5-8953-4b00d4fda87c",
    "_uuid": "f8c09ea7-7e2f-45d7-9388-3a38a28011cd",
    "collapsed": false,
    "execution": {
     "iopub.execute_input": "2022-09-11T12:03:40.573430Z",
     "iopub.status.busy": "2022-09-11T12:03:40.572981Z",
     "iopub.status.idle": "2022-09-11T12:03:42.013114Z",
     "shell.execute_reply": "2022-09-11T12:03:42.011688Z"
    },
    "jupyter": {
     "outputs_hidden": false
    },
    "papermill": {
     "duration": 1.461192,
     "end_time": "2022-09-11T12:03:42.016033",
     "exception": false,
     "start_time": "2022-09-11T12:03:40.554841",
     "status": "completed"
    },
    "tags": []
   },
   "outputs": [
    {
     "data": {
      "text/plain": [
       "array([[<AxesSubplot:title={'center':'Age'}>,\n",
       "        <AxesSubplot:title={'center':'Education'}>],\n",
       "       [<AxesSubplot:title={'center':'Usage'}>,\n",
       "        <AxesSubplot:title={'center':'Fitness'}>],\n",
       "       [<AxesSubplot:title={'center':'Income'}>,\n",
       "        <AxesSubplot:title={'center':'Miles'}>]], dtype=object)"
      ]
     },
     "execution_count": 18,
     "metadata": {},
     "output_type": "execute_result"
    },
    {
     "data": {
      "image/png": "[encoded data removed]",
      "text/plain": [
       "<Figure size 1440x1440 with 6 Axes>"
      ]
     },
     "metadata": {
      "needs_background": "light"
     },
     "output_type": "display_data"
    }
   ],
   "source": [
    "df.hist(figsize=(20,20))"
   ]
  },
  {
   "cell_type": "code",
   "execution_count": 19,
   "id": "21cf5016",
   "metadata": {
    "_cell_guid": "be00d86c-beee-486c-91cd-a29c47b41455",
    "_uuid": "fadeefcb-e2b7-429b-b623-e3a5dda544fa",
    "collapsed": false,
    "execution": {
     "iopub.execute_input": "2022-09-11T12:03:42.052775Z",
     "iopub.status.busy": "2022-09-11T12:03:42.052000Z",
     "iopub.status.idle": "2022-09-11T12:03:42.065042Z",
     "shell.execute_reply": "2022-09-11T12:03:42.063719Z"
    },
    "jupyter": {
     "outputs_hidden": false
    },
    "papermill": {
     "duration": 0.034429,
     "end_time": "2022-09-11T12:03:42.067849",
     "exception": false,
     "start_time": "2022-09-11T12:03:42.033420",
     "status": "completed"
    },
    "tags": []
   },
   "outputs": [
    {
     "data": {
      "text/plain": [
       "count    180.000000\n",
       "mean      28.788889\n",
       "std        6.943498\n",
       "min       18.000000\n",
       "25%       24.000000\n",
       "50%       26.000000\n",
       "75%       33.000000\n",
       "max       50.000000\n",
       "Name: Age, dtype: float64"
      ]
     },
     "execution_count": 19,
     "metadata": {},
     "output_type": "execute_result"
    }
   ],
   "source": [
    "df['Age'].describe()"
   ]
  },
  {
   "cell_type": "code",
   "execution_count": 20,
   "id": "8bbaccec",
   "metadata": {
    "_cell_guid": "27f8df53-0126-4c52-be7d-eb3096f7aacb",
    "_uuid": "95b49dd5-46ad-4e2e-95f5-d7866043888e",
    "collapsed": false,
    "execution": {
     "iopub.execute_input": "2022-09-11T12:03:42.105235Z",
     "iopub.status.busy": "2022-09-11T12:03:42.104782Z",
     "iopub.status.idle": "2022-09-11T12:03:42.321862Z",
     "shell.execute_reply": "2022-09-11T12:03:42.320665Z"
    },
    "jupyter": {
     "outputs_hidden": false
    },
    "papermill": {
     "duration": 0.238568,
     "end_time": "2022-09-11T12:03:42.324507",
     "exception": false,
     "start_time": "2022-09-11T12:03:42.085939",
     "status": "completed"
    },
    "tags": []
   },
   "outputs": [
    {
     "data": {
      "text/plain": [
       "<AxesSubplot:xlabel='Age', ylabel='Gender'>"
      ]
     },
     "execution_count": 20,
     "metadata": {},
     "output_type": "execute_result"
    },
    {
     "data": {
      "image/png": "[encoded data removed]",
      "text/plain": [
       "<Figure size 432x288 with 1 Axes>"
      ]
     },
     "metadata": {
      "needs_background": "light"
     },
     "output_type": "display_data"
    }
   ],
   "source": [
    "sns.boxplot(x=df['Age'],y=df['Gender'])"
   ]
  },
  {
   "cell_type": "code",
   "execution_count": 21,
   "id": "8ee598bc",
   "metadata": {
    "_cell_guid": "eb420111-817c-4a2e-8eae-78aa839c11a2",
    "_uuid": "df5b02e8-5d92-46b1-a9af-175d4fe7c54f",
    "collapsed": false,
    "execution": {
     "iopub.execute_input": "2022-09-11T12:03:42.362725Z",
     "iopub.status.busy": "2022-09-11T12:03:42.362254Z",
     "iopub.status.idle": "2022-09-11T12:03:42.579684Z",
     "shell.execute_reply": "2022-09-11T12:03:42.578705Z"
    },
    "jupyter": {
     "outputs_hidden": false
    },
    "papermill": {
     "duration": 0.241058,
     "end_time": "2022-09-11T12:03:42.583512",
     "exception": false,
     "start_time": "2022-09-11T12:03:42.342454",
     "status": "completed"
    },
    "tags": []
   },
   "outputs": [
    {
     "data": {
      "text/plain": [
       "<AxesSubplot:xlabel='Gender', ylabel='Age'>"
      ]
     },
     "execution_count": 21,
     "metadata": {},
     "output_type": "execute_result"
    },
    {
     "data": {
      "image/png": "[encoded data removed]",
      "text/plain": [
       "<Figure size 432x288 with 1 Axes>"
      ]
     },
     "metadata": {
      "needs_background": "light"
     },
     "output_type": "display_data"
    }
   ],
   "source": [
    "sns.boxenplot(x='Gender', y='Age', data=df)"
   ]
  },
  {
   "cell_type": "code",
   "execution_count": 22,
   "id": "ed7aac03",
   "metadata": {
    "_cell_guid": "aba7a629-6c5c-41a3-91d3-d5bd04aefe08",
    "_uuid": "71a4878d-7aa3-4ab1-80e9-e6a027a48045",
    "collapsed": false,
    "execution": {
     "iopub.execute_input": "2022-09-11T12:03:42.631434Z",
     "iopub.status.busy": "2022-09-11T12:03:42.630987Z",
     "iopub.status.idle": "2022-09-11T12:03:42.952834Z",
     "shell.execute_reply": "2022-09-11T12:03:42.951537Z"
    },
    "jupyter": {
     "outputs_hidden": false
    },
    "papermill": {
     "duration": 0.344936,
     "end_time": "2022-09-11T12:03:42.955823",
     "exception": false,
     "start_time": "2022-09-11T12:03:42.610887",
     "status": "completed"
    },
    "tags": []
   },
   "outputs": [
    {
     "data": {
      "text/plain": [
       "array([<AxesSubplot:title={'center':'Female'}>,\n",
       "       <AxesSubplot:title={'center':'Male'}>], dtype=object)"
      ]
     },
     "execution_count": 22,
     "metadata": {},
     "output_type": "execute_result"
    },
    {
     "data": {
      "image/png": "[encoded data removed]",
      "text/plain": [
       "<Figure size 432x288 with 2 Axes>"
      ]
     },
     "metadata": {
      "needs_background": "light"
     },
     "output_type": "display_data"
    }
   ],
   "source": [
    "df.hist(by='Gender',column = 'Age')"
   ]
  },
  {
   "cell_type": "code",
   "execution_count": 23,
   "id": "4c3b50a6",
   "metadata": {
    "_cell_guid": "b6e1d405-a01c-4214-a7f7-a746e002f9dc",
    "_uuid": "7cec4ab3-4c94-4505-a2f2-d80c27a0e0b7",
    "collapsed": false,
    "execution": {
     "iopub.execute_input": "2022-09-11T12:03:42.995773Z",
     "iopub.status.busy": "2022-09-11T12:03:42.995039Z",
     "iopub.status.idle": "2022-09-11T12:03:43.025683Z",
     "shell.execute_reply": "2022-09-11T12:03:43.024470Z"
    },
    "jupyter": {
     "outputs_hidden": false
    },
    "papermill": {
     "duration": 0.053828,
     "end_time": "2022-09-11T12:03:43.028090",
     "exception": false,
     "start_time": "2022-09-11T12:03:42.974262",
     "status": "completed"
    },
    "tags": []
   },
   "outputs": [
    {
     "data": {
      "text/html": [
       "<div>\n",
       "<style scoped>\n",
       "    .dataframe tbody tr th:only-of-type {\n",
       "        vertical-align: middle;\n",
       "    }\n",
       "\n",
       "    .dataframe tbody tr th {\n",
       "        vertical-align: top;\n",
       "    }\n",
       "\n",
       "    .dataframe thead th {\n",
       "        text-align: right;\n",
       "    }\n",
       "</style>\n",
       "<table border=\"1\" class=\"dataframe\">\n",
       "  <thead>\n",
       "    <tr style=\"text-align: right;\">\n",
       "      <th>Gender</th>\n",
       "      <th>Female</th>\n",
       "      <th>Male</th>\n",
       "    </tr>\n",
       "    <tr>\n",
       "      <th>Product</th>\n",
       "      <th></th>\n",
       "      <th></th>\n",
       "    </tr>\n",
       "  </thead>\n",
       "  <tbody>\n",
       "    <tr>\n",
       "      <th>TM195</th>\n",
       "      <td>40</td>\n",
       "      <td>40</td>\n",
       "    </tr>\n",
       "    <tr>\n",
       "      <th>TM498</th>\n",
       "      <td>29</td>\n",
       "      <td>31</td>\n",
       "    </tr>\n",
       "    <tr>\n",
       "      <th>TM798</th>\n",
       "      <td>7</td>\n",
       "      <td>33</td>\n",
       "    </tr>\n",
       "  </tbody>\n",
       "</table>\n",
       "</div>"
      ],
      "text/plain": [
       "Gender   Female  Male\n",
       "Product              \n",
       "TM195        40    40\n",
       "TM498        29    31\n",
       "TM798         7    33"
      ]
     },
     "execution_count": 23,
     "metadata": {},
     "output_type": "execute_result"
    }
   ],
   "source": [
    "pd.crosstab(df['Product'], df['Gender'] )"
   ]
  },
  {
   "cell_type": "code",
   "execution_count": 24,
   "id": "4d9badb2",
   "metadata": {
    "_cell_guid": "9a76bb67-c962-48ca-a723-d29e09a52a55",
    "_uuid": "57f3c501-b570-4d96-9618-3bb91ed94d5d",
    "collapsed": false,
    "execution": {
     "iopub.execute_input": "2022-09-11T12:03:43.067567Z",
     "iopub.status.busy": "2022-09-11T12:03:43.066799Z",
     "iopub.status.idle": "2022-09-11T12:03:43.200472Z",
     "shell.execute_reply": "2022-09-11T12:03:43.198928Z"
    },
    "jupyter": {
     "outputs_hidden": false
    },
    "papermill": {
     "duration": 0.158001,
     "end_time": "2022-09-11T12:03:43.204700",
     "exception": false,
     "start_time": "2022-09-11T12:03:43.046699",
     "status": "completed"
    },
    "tags": []
   },
   "outputs": [
    {
     "data": {
      "text/plain": [
       "Text(0.5, 1.0, 'Pie chart of Product Sales')"
      ]
     },
     "execution_count": 24,
     "metadata": {},
     "output_type": "execute_result"
    },
    {
     "data": {
      "image/png": "[encoded data removed]",
      "text/plain": [
       "<Figure size 576x432 with 1 Axes>"
      ]
     },
     "metadata": {},
     "output_type": "display_data"
    }
   ],
   "source": [
    "plt.figure(figsize=(8, 6))\n",
    "df['Product'].value_counts().plot.pie(autopct='%1.1f%%')\n",
    "plt.title(\"Pie chart of Product Sales\")"
   ]
  },
  {
   "cell_type": "code",
   "execution_count": 25,
   "id": "8af60ad8",
   "metadata": {
    "_cell_guid": "e08e836b-bbf1-4299-9d63-187d04fb6da6",
    "_uuid": "7c9be5e0-29e4-4840-8f2b-476f94cf8a99",
    "collapsed": false,
    "execution": {
     "iopub.execute_input": "2022-09-11T12:03:43.279158Z",
     "iopub.status.busy": "2022-09-11T12:03:43.278398Z",
     "iopub.status.idle": "2022-09-11T12:03:43.528059Z",
     "shell.execute_reply": "2022-09-11T12:03:43.526674Z"
    },
    "jupyter": {
     "outputs_hidden": false
    },
    "papermill": {
     "duration": 0.280047,
     "end_time": "2022-09-11T12:03:43.530818",
     "exception": false,
     "start_time": "2022-09-11T12:03:43.250771",
     "status": "completed"
    },
    "tags": []
   },
   "outputs": [
    {
     "data": {
      "text/plain": [
       "<AxesSubplot:xlabel='Product', ylabel='count'>"
      ]
     },
     "execution_count": 25,
     "metadata": {},
     "output_type": "execute_result"
    },
    {
     "data": {
      "image/png": "[encoded data removed]",
      "text/plain": [
       "<Figure size 432x288 with 1 Axes>"
      ]
     },
     "metadata": {
      "needs_background": "light"
     },
     "output_type": "display_data"
    }
   ],
   "source": [
    "sns.countplot(x=df['Product'],hue=df['Gender'])"
   ]
  },
  {
   "cell_type": "code",
   "execution_count": 26,
   "id": "5f62126c",
   "metadata": {
    "_cell_guid": "0de3cfb4-c4f3-4a14-9c16-27c37ecb37a5",
    "_uuid": "aa39c1ca-1709-46c6-92e7-b00d6df41656",
    "collapsed": false,
    "execution": {
     "iopub.execute_input": "2022-09-11T12:03:43.571873Z",
     "iopub.status.busy": "2022-09-11T12:03:43.571441Z",
     "iopub.status.idle": "2022-09-11T12:03:43.918608Z",
     "shell.execute_reply": "2022-09-11T12:03:43.917090Z"
    },
    "jupyter": {
     "outputs_hidden": false
    },
    "papermill": {
     "duration": 0.371113,
     "end_time": "2022-09-11T12:03:43.921583",
     "exception": false,
     "start_time": "2022-09-11T12:03:43.550470",
     "status": "completed"
    },
    "tags": []
   },
   "outputs": [
    {
     "data": {
      "text/plain": [
       "<AxesSubplot:xlabel='Miles', ylabel='Age'>"
      ]
     },
     "execution_count": 26,
     "metadata": {},
     "output_type": "execute_result"
    },
    {
     "data": {
      "image/png": "[encoded data removed]",
      "text/plain": [
       "<Figure size 432x288 with 1 Axes>"
      ]
     },
     "metadata": {
      "needs_background": "light"
     },
     "output_type": "display_data"
    }
   ],
   "source": [
    "sns.scatterplot(x=df['Miles'],y=df['Age'],hue=df['Product'])"
   ]
  },
  {
   "cell_type": "code",
   "execution_count": 27,
   "id": "96ec2d8f",
   "metadata": {
    "_cell_guid": "e45bef3f-5bca-40d4-9d40-0c2ae5004569",
    "_uuid": "6c6e3ccc-3b8b-4adb-a916-aea6f1981d3c",
    "collapsed": false,
    "execution": {
     "iopub.execute_input": "2022-09-11T12:03:43.965676Z",
     "iopub.status.busy": "2022-09-11T12:03:43.964816Z",
     "iopub.status.idle": "2022-09-11T12:03:45.274975Z",
     "shell.execute_reply": "2022-09-11T12:03:45.273543Z"
    },
    "jupyter": {
     "outputs_hidden": false
    },
    "papermill": {
     "duration": 1.334861,
     "end_time": "2022-09-11T12:03:45.277396",
     "exception": false,
     "start_time": "2022-09-11T12:03:43.942535",
     "status": "completed"
    },
    "tags": []
   },
   "outputs": [
    {
     "data": {
      "text/plain": [
       "<AxesSubplot:xlabel='Income', ylabel='Age'>"
      ]
     },
     "execution_count": 27,
     "metadata": {},
     "output_type": "execute_result"
    },
    {
     "data": {
      "image/png": "[encoded data removed]",
      "text/plain": [
       "<Figure size 432x288 with 1 Axes>"
      ]
     },
     "metadata": {
      "needs_background": "light"
     },
     "output_type": "display_data"
    }
   ],
   "source": [
    "sns.lineplot(x=df['Income'],y=df['Age'],hue=df['Product'])"
   ]
  },
  {
   "cell_type": "code",
   "execution_count": 28,
   "id": "4bbbd296",
   "metadata": {
    "_cell_guid": "d1291ba2-da28-49f4-95e6-8c8c0dab4ac8",
    "_uuid": "a3011888-a5be-487d-8d1a-ca70392e4383",
    "collapsed": false,
    "execution": {
     "iopub.execute_input": "2022-09-11T12:03:45.322378Z",
     "iopub.status.busy": "2022-09-11T12:03:45.321961Z",
     "iopub.status.idle": "2022-09-11T12:03:45.601526Z",
     "shell.execute_reply": "2022-09-11T12:03:45.600298Z"
    },
    "jupyter": {
     "outputs_hidden": false
    },
    "papermill": {
     "duration": 0.306287,
     "end_time": "2022-09-11T12:03:45.604168",
     "exception": false,
     "start_time": "2022-09-11T12:03:45.297881",
     "status": "completed"
    },
    "tags": []
   },
   "outputs": [
    {
     "data": {
      "text/plain": [
       "<matplotlib.lines.Line2D at 0x7f1c30dbe710>"
      ]
     },
     "execution_count": 28,
     "metadata": {},
     "output_type": "execute_result"
    },
    {
     "data": {
      "image/png": "[encoded data removed]",
      "text/plain": [
       "<Figure size 432x288 with 1 Axes>"
      ]
     },
     "metadata": {
      "needs_background": "light"
     },
     "output_type": "display_data"
    }
   ],
   "source": [
    "sns.histplot(df['Age'])\n",
    "plt.axvline(df['Age'].mean(), color=\"y\",linestyle='--',linewidth=2,label='Mean')\n",
    "plt.axvline(df['Age'].median(), color=\"b\",linestyle='--',linewidth=2,label='Median')\n",
    "plt.axvline(df['Age'].mode()[0], color=\"g\",linestyle='--',linewidth=2,label='Mode')"
   ]
  },
  {
   "cell_type": "code",
   "execution_count": 29,
   "id": "831d18bc",
   "metadata": {
    "_cell_guid": "b800c946-d3e3-4da0-8050-125df8f3a44d",
    "_uuid": "82aaf30e-81a4-41f8-b8f9-40d7130445a1",
    "collapsed": false,
    "execution": {
     "iopub.execute_input": "2022-09-11T12:03:45.650815Z",
     "iopub.status.busy": "2022-09-11T12:03:45.650120Z",
     "iopub.status.idle": "2022-09-11T12:03:45.664465Z",
     "shell.execute_reply": "2022-09-11T12:03:45.663082Z"
    },
    "jupyter": {
     "outputs_hidden": false
    },
    "papermill": {
     "duration": 0.041701,
     "end_time": "2022-09-11T12:03:45.667206",
     "exception": false,
     "start_time": "2022-09-11T12:03:45.625505",
     "status": "completed"
    },
    "tags": []
   },
   "outputs": [
    {
     "data": {
      "text/html": [
       "<div>\n",
       "<style scoped>\n",
       "    .dataframe tbody tr th:only-of-type {\n",
       "        vertical-align: middle;\n",
       "    }\n",
       "\n",
       "    .dataframe tbody tr th {\n",
       "        vertical-align: top;\n",
       "    }\n",
       "\n",
       "    .dataframe thead th {\n",
       "        text-align: right;\n",
       "    }\n",
       "</style>\n",
       "<table border=\"1\" class=\"dataframe\">\n",
       "  <thead>\n",
       "    <tr style=\"text-align: right;\">\n",
       "      <th></th>\n",
       "      <th>Age</th>\n",
       "      <th>Education</th>\n",
       "      <th>Usage</th>\n",
       "      <th>Fitness</th>\n",
       "      <th>Income</th>\n",
       "      <th>Miles</th>\n",
       "    </tr>\n",
       "  </thead>\n",
       "  <tbody>\n",
       "    <tr>\n",
       "      <th>Age</th>\n",
       "      <td>1.000000</td>\n",
       "      <td>0.280496</td>\n",
       "      <td>0.015064</td>\n",
       "      <td>0.061105</td>\n",
       "      <td>0.513414</td>\n",
       "      <td>0.036618</td>\n",
       "    </tr>\n",
       "    <tr>\n",
       "      <th>Education</th>\n",
       "      <td>0.280496</td>\n",
       "      <td>1.000000</td>\n",
       "      <td>0.395155</td>\n",
       "      <td>0.410581</td>\n",
       "      <td>0.625827</td>\n",
       "      <td>0.307284</td>\n",
       "    </tr>\n",
       "    <tr>\n",
       "      <th>Usage</th>\n",
       "      <td>0.015064</td>\n",
       "      <td>0.395155</td>\n",
       "      <td>1.000000</td>\n",
       "      <td>0.668606</td>\n",
       "      <td>0.519537</td>\n",
       "      <td>0.759130</td>\n",
       "    </tr>\n",
       "    <tr>\n",
       "      <th>Fitness</th>\n",
       "      <td>0.061105</td>\n",
       "      <td>0.410581</td>\n",
       "      <td>0.668606</td>\n",
       "      <td>1.000000</td>\n",
       "      <td>0.535005</td>\n",
       "      <td>0.785702</td>\n",
       "    </tr>\n",
       "    <tr>\n",
       "      <th>Income</th>\n",
       "      <td>0.513414</td>\n",
       "      <td>0.625827</td>\n",
       "      <td>0.519537</td>\n",
       "      <td>0.535005</td>\n",
       "      <td>1.000000</td>\n",
       "      <td>0.543473</td>\n",
       "    </tr>\n",
       "    <tr>\n",
       "      <th>Miles</th>\n",
       "      <td>0.036618</td>\n",
       "      <td>0.307284</td>\n",
       "      <td>0.759130</td>\n",
       "      <td>0.785702</td>\n",
       "      <td>0.543473</td>\n",
       "      <td>1.000000</td>\n",
       "    </tr>\n",
       "  </tbody>\n",
       "</table>\n",
       "</div>"
      ],
      "text/plain": [
       "                Age  Education     Usage   Fitness    Income     Miles\n",
       "Age        1.000000   0.280496  0.015064  0.061105  0.513414  0.036618\n",
       "Education  0.280496   1.000000  0.395155  0.410581  0.625827  0.307284\n",
       "Usage      0.015064   0.395155  1.000000  0.668606  0.519537  0.759130\n",
       "Fitness    0.061105   0.410581  0.668606  1.000000  0.535005  0.785702\n",
       "Income     0.513414   0.625827  0.519537  0.535005  1.000000  0.543473\n",
       "Miles      0.036618   0.307284  0.759130  0.785702  0.543473  1.000000"
      ]
     },
     "execution_count": 29,
     "metadata": {},
     "output_type": "execute_result"
    }
   ],
   "source": [
    "corr = df.corr()\n",
    "corr"
   ]
  },
  {
   "cell_type": "code",
   "execution_count": 30,
   "id": "f9a1888c",
   "metadata": {
    "_cell_guid": "516dba96-13f9-478b-9410-293da21f989b",
    "_uuid": "593db833-4892-4c50-a711-7d756786c35a",
    "collapsed": false,
    "execution": {
     "iopub.execute_input": "2022-09-11T12:03:45.711725Z",
     "iopub.status.busy": "2022-09-11T12:03:45.710807Z",
     "iopub.status.idle": "2022-09-11T12:03:46.132152Z",
     "shell.execute_reply": "2022-09-11T12:03:46.131033Z"
    },
    "jupyter": {
     "outputs_hidden": false
    },
    "papermill": {
     "duration": 0.445917,
     "end_time": "2022-09-11T12:03:46.134566",
     "exception": false,
     "start_time": "2022-09-11T12:03:45.688649",
     "status": "completed"
    },
    "tags": []
   },
   "outputs": [
    {
     "data": {
      "text/plain": [
       "<AxesSubplot:>"
      ]
     },
     "execution_count": 30,
     "metadata": {},
     "output_type": "execute_result"
    },
    {
     "data": {
      "image/png": "[encoded data removed]",
      "text/plain": [
       "<Figure size 432x288 with 2 Axes>"
      ]
     },
     "metadata": {
      "needs_background": "light"
     },
     "output_type": "display_data"
    }
   ],
   "source": [
    "plt.figure(figsize=(6, 4))\n",
    "sns.heatmap(corr, annot=True)"
   ]
  }
 ],
 "metadata": {
  "kernelspec": {
   "display_name": "Python 3",
   "language": "python",
   "name": "python3"
  },
  "language_info": {
   "codemirror_mode": {
    "name": "ipython",
    "version": 3
   },
   "file_extension": ".py",
   "mimetype": "text/x-python",
   "name": "python",
   "nbconvert_exporter": "python",
   "pygments_lexer": "ipython3",
   "version": "3.7.12"
  },
  "papermill": {
   "default_parameters": {},
   "duration": 26.543608,
   "end_time": "2022-09-11T12:03:47.283514",
   "environment_variables": {},
   "exception": null,
   "input_path": "__notebook__.ipynb",
   "output_path": "__notebook__.ipynb",
   "parameters": {},
   "start_time": "2022-09-11T12:03:20.739906",
   "version": "2.3.4"
  }
 },
 "nbformat": 4,
 "nbformat_minor": 5
}
